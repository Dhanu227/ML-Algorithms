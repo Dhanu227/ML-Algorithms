{
 "cells": [
  {
   "cell_type": "code",
   "execution_count": 1,
   "id": "9c3bece2",
   "metadata": {},
   "outputs": [],
   "source": [
    "import pandas as pd\n",
    "import numpy as np\n",
    "import matplotlib.pyplot as plt\n",
    "from sklearn.datasets import load_iris"
   ]
  },
  {
   "cell_type": "code",
   "execution_count": 2,
   "id": "292d4c6d",
   "metadata": {},
   "outputs": [
    {
     "data": {
      "text/html": [
       "<div>\n",
       "<style scoped>\n",
       "    .dataframe tbody tr th:only-of-type {\n",
       "        vertical-align: middle;\n",
       "    }\n",
       "\n",
       "    .dataframe tbody tr th {\n",
       "        vertical-align: top;\n",
       "    }\n",
       "\n",
       "    .dataframe thead th {\n",
       "        text-align: right;\n",
       "    }\n",
       "</style>\n",
       "<table border=\"1\" class=\"dataframe\">\n",
       "  <thead>\n",
       "    <tr style=\"text-align: right;\">\n",
       "      <th></th>\n",
       "      <th>sepal_length</th>\n",
       "      <th>sepal_width</th>\n",
       "      <th>petal_length</th>\n",
       "      <th>petal_width</th>\n",
       "      <th>species</th>\n",
       "    </tr>\n",
       "  </thead>\n",
       "  <tbody>\n",
       "    <tr>\n",
       "      <th>0</th>\n",
       "      <td>5.1</td>\n",
       "      <td>3.5</td>\n",
       "      <td>1.4</td>\n",
       "      <td>0.2</td>\n",
       "      <td>setosa</td>\n",
       "    </tr>\n",
       "    <tr>\n",
       "      <th>1</th>\n",
       "      <td>4.9</td>\n",
       "      <td>3.0</td>\n",
       "      <td>1.4</td>\n",
       "      <td>0.2</td>\n",
       "      <td>setosa</td>\n",
       "    </tr>\n",
       "    <tr>\n",
       "      <th>2</th>\n",
       "      <td>4.7</td>\n",
       "      <td>3.2</td>\n",
       "      <td>1.3</td>\n",
       "      <td>0.2</td>\n",
       "      <td>setosa</td>\n",
       "    </tr>\n",
       "    <tr>\n",
       "      <th>3</th>\n",
       "      <td>4.6</td>\n",
       "      <td>3.1</td>\n",
       "      <td>1.5</td>\n",
       "      <td>0.2</td>\n",
       "      <td>setosa</td>\n",
       "    </tr>\n",
       "    <tr>\n",
       "      <th>4</th>\n",
       "      <td>5.0</td>\n",
       "      <td>3.6</td>\n",
       "      <td>1.4</td>\n",
       "      <td>0.2</td>\n",
       "      <td>setosa</td>\n",
       "    </tr>\n",
       "    <tr>\n",
       "      <th>...</th>\n",
       "      <td>...</td>\n",
       "      <td>...</td>\n",
       "      <td>...</td>\n",
       "      <td>...</td>\n",
       "      <td>...</td>\n",
       "    </tr>\n",
       "    <tr>\n",
       "      <th>145</th>\n",
       "      <td>6.7</td>\n",
       "      <td>3.0</td>\n",
       "      <td>5.2</td>\n",
       "      <td>2.3</td>\n",
       "      <td>virginica</td>\n",
       "    </tr>\n",
       "    <tr>\n",
       "      <th>146</th>\n",
       "      <td>6.3</td>\n",
       "      <td>2.5</td>\n",
       "      <td>5.0</td>\n",
       "      <td>1.9</td>\n",
       "      <td>virginica</td>\n",
       "    </tr>\n",
       "    <tr>\n",
       "      <th>147</th>\n",
       "      <td>6.5</td>\n",
       "      <td>3.0</td>\n",
       "      <td>5.2</td>\n",
       "      <td>2.0</td>\n",
       "      <td>virginica</td>\n",
       "    </tr>\n",
       "    <tr>\n",
       "      <th>148</th>\n",
       "      <td>6.2</td>\n",
       "      <td>3.4</td>\n",
       "      <td>5.4</td>\n",
       "      <td>2.3</td>\n",
       "      <td>virginica</td>\n",
       "    </tr>\n",
       "    <tr>\n",
       "      <th>149</th>\n",
       "      <td>5.9</td>\n",
       "      <td>3.0</td>\n",
       "      <td>5.1</td>\n",
       "      <td>1.8</td>\n",
       "      <td>virginica</td>\n",
       "    </tr>\n",
       "  </tbody>\n",
       "</table>\n",
       "<p>150 rows × 5 columns</p>\n",
       "</div>"
      ],
      "text/plain": [
       "     sepal_length  sepal_width  petal_length  petal_width    species\n",
       "0             5.1          3.5           1.4          0.2     setosa\n",
       "1             4.9          3.0           1.4          0.2     setosa\n",
       "2             4.7          3.2           1.3          0.2     setosa\n",
       "3             4.6          3.1           1.5          0.2     setosa\n",
       "4             5.0          3.6           1.4          0.2     setosa\n",
       "..            ...          ...           ...          ...        ...\n",
       "145           6.7          3.0           5.2          2.3  virginica\n",
       "146           6.3          2.5           5.0          1.9  virginica\n",
       "147           6.5          3.0           5.2          2.0  virginica\n",
       "148           6.2          3.4           5.4          2.3  virginica\n",
       "149           5.9          3.0           5.1          1.8  virginica\n",
       "\n",
       "[150 rows x 5 columns]"
      ]
     },
     "execution_count": 2,
     "metadata": {},
     "output_type": "execute_result"
    }
   ],
   "source": [
    "df = pd.read_csv('iris[1].csv')\n",
    "df"
   ]
  },
  {
   "cell_type": "code",
   "execution_count": 3,
   "id": "14dc7ce0",
   "metadata": {},
   "outputs": [
    {
     "name": "stdout",
     "output_type": "stream",
     "text": [
      "(150,) (150,)\n"
     ]
    }
   ],
   "source": [
    "x = df.iloc[:,0].values\n",
    "y = df.iloc[:,2].values\n",
    "print(x.shape,y.shape)"
   ]
  },
  {
   "cell_type": "code",
   "execution_count": 4,
   "id": "70c6e03e",
   "metadata": {},
   "outputs": [
    {
     "name": "stdout",
     "output_type": "stream",
     "text": [
      "(150, 1) (150, 1)\n"
     ]
    }
   ],
   "source": [
    "y = y.reshape(-1,1)\n",
    "x = x.reshape(-1,1)\n",
    "print(x.shape,y.shape)"
   ]
  },
  {
   "cell_type": "code",
   "execution_count": 5,
   "id": "6507f1da",
   "metadata": {},
   "outputs": [
    {
     "data": {
      "image/png": "[encoded data removed]",
      "text/plain": [
       "<Figure size 640x480 with 1 Axes>"
      ]
     },
     "metadata": {},
     "output_type": "display_data"
    }
   ],
   "source": [
    "from sklearn.linear_model import LinearRegression\n",
    "regression_model=LinearRegression()\n",
    "regression_model.fit(x,y)\n",
    "y_pred = regression_model.predict(x)\n",
    "plt.scatter(x,y,color = 'r')\n",
    "plt.plot(x,y_pred,color = 'b')\n",
    "plt.title('SepalLength vs PetalLength')\n",
    "plt.xlabel('SepalLength')\n",
    "plt.ylabel('PetalLength')\n",
    "plt.show()"
   ]
  },
  {
   "cell_type": "code",
   "execution_count": 6,
   "id": "b36c1002",
   "metadata": {},
   "outputs": [
    {
     "name": "stdout",
     "output_type": "stream",
     "text": [
      "Coefficients : [[1.85750967]]\n"
     ]
    }
   ],
   "source": [
    "print('Coefficients :', regression_model.coef_)"
   ]
  },
  {
   "cell_type": "code",
   "execution_count": 7,
   "id": "46798f0d",
   "metadata": {},
   "outputs": [
    {
     "name": "stdout",
     "output_type": "stream",
     "text": [
      "(150,) (150,)\n"
     ]
    }
   ],
   "source": [
    "x = df.iloc[:,2].values\n",
    "y = df.iloc[:,3].values\n",
    "print(x.shape,y.shape)\n"
   ]
  },
  {
   "cell_type": "code",
   "execution_count": 8,
   "id": "169a46a2",
   "metadata": {},
   "outputs": [
    {
     "name": "stdout",
     "output_type": "stream",
     "text": [
      "(150, 1) (150, 1)\n"
     ]
    }
   ],
   "source": [
    "y = y.reshape(-1,1)\n",
    "x = x.reshape(-1,1)\n",
    "print(x.shape,y.shape)"
   ]
  },
  {
   "cell_type": "code",
   "execution_count": 9,
   "id": "18f1a368",
   "metadata": {},
   "outputs": [
    {
     "data": {
      "image/png": "[encoded data removed]",
      "text/plain": [
       "<Figure size 640x480 with 1 Axes>"
      ]
     },
     "metadata": {},
     "output_type": "display_data"
    }
   ],
   "source": [
    "from sklearn.linear_model import LinearRegression\n",
    "regression_model=LinearRegression()\n",
    "regression_model.fit(x,y)\n",
    "y_pred= regression_model.predict(x)\n",
    "plt.scatter(x,y,color = 'b')\n",
    "plt.plot(x,y_pred,color='r')\n",
    "plt.title('PetalLength VS PetalWidth')\n",
    "plt.xlabel('PetalLength')\n",
    "plt.ylabel('PetalWidth')\n",
    "plt.show()"
   ]
  },
  {
   "cell_type": "code",
   "execution_count": 10,
   "id": "6f126868",
   "metadata": {},
   "outputs": [
    {
     "name": "stdout",
     "output_type": "stream",
     "text": [
      "Coefficients: [[0.41641913]]\n"
     ]
    }
   ],
   "source": [
    "print('Coefficients:', regression_model.coef_)"
   ]
  },
  {
   "cell_type": "code",
   "execution_count": 11,
   "id": "e9ee94a8",
   "metadata": {},
   "outputs": [
    {
     "data": {
      "text/html": [
       "<div>\n",
       "<style scoped>\n",
       "    .dataframe tbody tr th:only-of-type {\n",
       "        vertical-align: middle;\n",
       "    }\n",
       "\n",
       "    .dataframe tbody tr th {\n",
       "        vertical-align: top;\n",
       "    }\n",
       "\n",
       "    .dataframe thead th {\n",
       "        text-align: right;\n",
       "    }\n",
       "</style>\n",
       "<table border=\"1\" class=\"dataframe\">\n",
       "  <thead>\n",
       "    <tr style=\"text-align: right;\">\n",
       "      <th></th>\n",
       "      <th>Sno</th>\n",
       "      <th>Date</th>\n",
       "      <th>Time</th>\n",
       "      <th>State/UnionTerritory</th>\n",
       "      <th>ConfirmedIndianNational</th>\n",
       "      <th>ConfirmedForeignNational</th>\n",
       "      <th>Cured</th>\n",
       "      <th>Deaths</th>\n",
       "      <th>Confirmed</th>\n",
       "    </tr>\n",
       "  </thead>\n",
       "  <tbody>\n",
       "    <tr>\n",
       "      <th>0</th>\n",
       "      <td>1</td>\n",
       "      <td>2020-01-30</td>\n",
       "      <td>6:00 PM</td>\n",
       "      <td>Kerala</td>\n",
       "      <td>1</td>\n",
       "      <td>0</td>\n",
       "      <td>0</td>\n",
       "      <td>0</td>\n",
       "      <td>1</td>\n",
       "    </tr>\n",
       "    <tr>\n",
       "      <th>1</th>\n",
       "      <td>2</td>\n",
       "      <td>2020-01-31</td>\n",
       "      <td>6:00 PM</td>\n",
       "      <td>Kerala</td>\n",
       "      <td>1</td>\n",
       "      <td>0</td>\n",
       "      <td>0</td>\n",
       "      <td>0</td>\n",
       "      <td>1</td>\n",
       "    </tr>\n",
       "    <tr>\n",
       "      <th>2</th>\n",
       "      <td>3</td>\n",
       "      <td>2020-02-01</td>\n",
       "      <td>6:00 PM</td>\n",
       "      <td>Kerala</td>\n",
       "      <td>2</td>\n",
       "      <td>0</td>\n",
       "      <td>0</td>\n",
       "      <td>0</td>\n",
       "      <td>2</td>\n",
       "    </tr>\n",
       "    <tr>\n",
       "      <th>3</th>\n",
       "      <td>4</td>\n",
       "      <td>2020-02-02</td>\n",
       "      <td>6:00 PM</td>\n",
       "      <td>Kerala</td>\n",
       "      <td>3</td>\n",
       "      <td>0</td>\n",
       "      <td>0</td>\n",
       "      <td>0</td>\n",
       "      <td>3</td>\n",
       "    </tr>\n",
       "    <tr>\n",
       "      <th>4</th>\n",
       "      <td>5</td>\n",
       "      <td>2020-02-03</td>\n",
       "      <td>6:00 PM</td>\n",
       "      <td>Kerala</td>\n",
       "      <td>3</td>\n",
       "      <td>0</td>\n",
       "      <td>0</td>\n",
       "      <td>0</td>\n",
       "      <td>3</td>\n",
       "    </tr>\n",
       "    <tr>\n",
       "      <th>...</th>\n",
       "      <td>...</td>\n",
       "      <td>...</td>\n",
       "      <td>...</td>\n",
       "      <td>...</td>\n",
       "      <td>...</td>\n",
       "      <td>...</td>\n",
       "      <td>...</td>\n",
       "      <td>...</td>\n",
       "      <td>...</td>\n",
       "    </tr>\n",
       "    <tr>\n",
       "      <th>18105</th>\n",
       "      <td>18106</td>\n",
       "      <td>2021-08-11</td>\n",
       "      <td>8:00 AM</td>\n",
       "      <td>Telangana</td>\n",
       "      <td>-</td>\n",
       "      <td>-</td>\n",
       "      <td>638410</td>\n",
       "      <td>3831</td>\n",
       "      <td>650353</td>\n",
       "    </tr>\n",
       "    <tr>\n",
       "      <th>18106</th>\n",
       "      <td>18107</td>\n",
       "      <td>2021-08-11</td>\n",
       "      <td>8:00 AM</td>\n",
       "      <td>Tripura</td>\n",
       "      <td>-</td>\n",
       "      <td>-</td>\n",
       "      <td>77811</td>\n",
       "      <td>773</td>\n",
       "      <td>80660</td>\n",
       "    </tr>\n",
       "    <tr>\n",
       "      <th>18107</th>\n",
       "      <td>18108</td>\n",
       "      <td>2021-08-11</td>\n",
       "      <td>8:00 AM</td>\n",
       "      <td>Uttarakhand</td>\n",
       "      <td>-</td>\n",
       "      <td>-</td>\n",
       "      <td>334650</td>\n",
       "      <td>7368</td>\n",
       "      <td>342462</td>\n",
       "    </tr>\n",
       "    <tr>\n",
       "      <th>18108</th>\n",
       "      <td>18109</td>\n",
       "      <td>2021-08-11</td>\n",
       "      <td>8:00 AM</td>\n",
       "      <td>Uttar Pradesh</td>\n",
       "      <td>-</td>\n",
       "      <td>-</td>\n",
       "      <td>1685492</td>\n",
       "      <td>22775</td>\n",
       "      <td>1708812</td>\n",
       "    </tr>\n",
       "    <tr>\n",
       "      <th>18109</th>\n",
       "      <td>18110</td>\n",
       "      <td>2021-08-11</td>\n",
       "      <td>8:00 AM</td>\n",
       "      <td>West Bengal</td>\n",
       "      <td>-</td>\n",
       "      <td>-</td>\n",
       "      <td>1506532</td>\n",
       "      <td>18252</td>\n",
       "      <td>1534999</td>\n",
       "    </tr>\n",
       "  </tbody>\n",
       "</table>\n",
       "<p>18110 rows × 9 columns</p>\n",
       "</div>"
      ],
      "text/plain": [
       "         Sno        Date     Time State/UnionTerritory  \\\n",
       "0          1  2020-01-30  6:00 PM               Kerala   \n",
       "1          2  2020-01-31  6:00 PM               Kerala   \n",
       "2          3  2020-02-01  6:00 PM               Kerala   \n",
       "3          4  2020-02-02  6:00 PM               Kerala   \n",
       "4          5  2020-02-03  6:00 PM               Kerala   \n",
       "...      ...         ...      ...                  ...   \n",
       "18105  18106  2021-08-11  8:00 AM            Telangana   \n",
       "18106  18107  2021-08-11  8:00 AM              Tripura   \n",
       "18107  18108  2021-08-11  8:00 AM          Uttarakhand   \n",
       "18108  18109  2021-08-11  8:00 AM        Uttar Pradesh   \n",
       "18109  18110  2021-08-11  8:00 AM          West Bengal   \n",
       "\n",
       "      ConfirmedIndianNational ConfirmedForeignNational    Cured  Deaths  \\\n",
       "0                           1                        0        0       0   \n",
       "1                           1                        0        0       0   \n",
       "2                           2                        0        0       0   \n",
       "3                           3                        0        0       0   \n",
       "4                           3                        0        0       0   \n",
       "...                       ...                      ...      ...     ...   \n",
       "18105                       -                        -   638410    3831   \n",
       "18106                       -                        -    77811     773   \n",
       "18107                       -                        -   334650    7368   \n",
       "18108                       -                        -  1685492   22775   \n",
       "18109                       -                        -  1506532   18252   \n",
       "\n",
       "       Confirmed  \n",
       "0              1  \n",
       "1              1  \n",
       "2              2  \n",
       "3              3  \n",
       "4              3  \n",
       "...          ...  \n",
       "18105     650353  \n",
       "18106      80660  \n",
       "18107     342462  \n",
       "18108    1708812  \n",
       "18109    1534999  \n",
       "\n",
       "[18110 rows x 9 columns]"
      ]
     },
     "execution_count": 11,
     "metadata": {},
     "output_type": "execute_result"
    }
   ],
   "source": [
    "import pandas as pd\n",
    "data = pd.read_csv('covid[1].csv')\n",
    "data"
   ]
  },
  {
   "cell_type": "code",
   "execution_count": 12,
   "id": "f91b7360",
   "metadata": {},
   "outputs": [
    {
     "data": {
      "text/plain": [
       "(18110, 9)"
      ]
     },
     "execution_count": 12,
     "metadata": {},
     "output_type": "execute_result"
    }
   ],
   "source": [
    "data.shape"
   ]
  },
  {
   "cell_type": "code",
   "execution_count": 13,
   "id": "79442777",
   "metadata": {},
   "outputs": [
    {
     "data": {
      "text/plain": [
       "Sno                          int64\n",
       "Date                        object\n",
       "Time                        object\n",
       "State/UnionTerritory        object\n",
       "ConfirmedIndianNational     object\n",
       "ConfirmedForeignNational    object\n",
       "Cured                        int64\n",
       "Deaths                       int64\n",
       "Confirmed                    int64\n",
       "dtype: object"
      ]
     },
     "execution_count": 13,
     "metadata": {},
     "output_type": "execute_result"
    }
   ],
   "source": [
    "data.dtypes"
   ]
  },
  {
   "cell_type": "code",
   "execution_count": 14,
   "id": "fff79530",
   "metadata": {},
   "outputs": [
    {
     "data": {
      "text/html": [
       "<div>\n",
       "<style scoped>\n",
       "    .dataframe tbody tr th:only-of-type {\n",
       "        vertical-align: middle;\n",
       "    }\n",
       "\n",
       "    .dataframe tbody tr th {\n",
       "        vertical-align: top;\n",
       "    }\n",
       "\n",
       "    .dataframe thead th {\n",
       "        text-align: right;\n",
       "    }\n",
       "</style>\n",
       "<table border=\"1\" class=\"dataframe\">\n",
       "  <thead>\n",
       "    <tr style=\"text-align: right;\">\n",
       "      <th></th>\n",
       "      <th>Sno</th>\n",
       "      <th>Date</th>\n",
       "      <th>Time</th>\n",
       "      <th>State/UnionTerritory</th>\n",
       "      <th>ConfirmedIndianNational</th>\n",
       "      <th>ConfirmedForeignNational</th>\n",
       "      <th>Cured</th>\n",
       "      <th>Deaths</th>\n",
       "      <th>Confirmed</th>\n",
       "    </tr>\n",
       "  </thead>\n",
       "  <tbody>\n",
       "    <tr>\n",
       "      <th>0</th>\n",
       "      <td>1</td>\n",
       "      <td>2020-01-30</td>\n",
       "      <td>6:00 PM</td>\n",
       "      <td>Kerala</td>\n",
       "      <td>1</td>\n",
       "      <td>0</td>\n",
       "      <td>0</td>\n",
       "      <td>0</td>\n",
       "      <td>1</td>\n",
       "    </tr>\n",
       "    <tr>\n",
       "      <th>1</th>\n",
       "      <td>2</td>\n",
       "      <td>2020-01-31</td>\n",
       "      <td>6:00 PM</td>\n",
       "      <td>Kerala</td>\n",
       "      <td>1</td>\n",
       "      <td>0</td>\n",
       "      <td>0</td>\n",
       "      <td>0</td>\n",
       "      <td>1</td>\n",
       "    </tr>\n",
       "    <tr>\n",
       "      <th>2</th>\n",
       "      <td>3</td>\n",
       "      <td>2020-02-01</td>\n",
       "      <td>6:00 PM</td>\n",
       "      <td>Kerala</td>\n",
       "      <td>2</td>\n",
       "      <td>0</td>\n",
       "      <td>0</td>\n",
       "      <td>0</td>\n",
       "      <td>2</td>\n",
       "    </tr>\n",
       "    <tr>\n",
       "      <th>3</th>\n",
       "      <td>4</td>\n",
       "      <td>2020-02-02</td>\n",
       "      <td>6:00 PM</td>\n",
       "      <td>Kerala</td>\n",
       "      <td>3</td>\n",
       "      <td>0</td>\n",
       "      <td>0</td>\n",
       "      <td>0</td>\n",
       "      <td>3</td>\n",
       "    </tr>\n",
       "    <tr>\n",
       "      <th>4</th>\n",
       "      <td>5</td>\n",
       "      <td>2020-02-03</td>\n",
       "      <td>6:00 PM</td>\n",
       "      <td>Kerala</td>\n",
       "      <td>3</td>\n",
       "      <td>0</td>\n",
       "      <td>0</td>\n",
       "      <td>0</td>\n",
       "      <td>3</td>\n",
       "    </tr>\n",
       "    <tr>\n",
       "      <th>5</th>\n",
       "      <td>6</td>\n",
       "      <td>2020-02-04</td>\n",
       "      <td>6:00 PM</td>\n",
       "      <td>Kerala</td>\n",
       "      <td>3</td>\n",
       "      <td>0</td>\n",
       "      <td>0</td>\n",
       "      <td>0</td>\n",
       "      <td>3</td>\n",
       "    </tr>\n",
       "    <tr>\n",
       "      <th>6</th>\n",
       "      <td>7</td>\n",
       "      <td>2020-02-05</td>\n",
       "      <td>6:00 PM</td>\n",
       "      <td>Kerala</td>\n",
       "      <td>3</td>\n",
       "      <td>0</td>\n",
       "      <td>0</td>\n",
       "      <td>0</td>\n",
       "      <td>3</td>\n",
       "    </tr>\n",
       "    <tr>\n",
       "      <th>7</th>\n",
       "      <td>8</td>\n",
       "      <td>2020-02-06</td>\n",
       "      <td>6:00 PM</td>\n",
       "      <td>Kerala</td>\n",
       "      <td>3</td>\n",
       "      <td>0</td>\n",
       "      <td>0</td>\n",
       "      <td>0</td>\n",
       "      <td>3</td>\n",
       "    </tr>\n",
       "    <tr>\n",
       "      <th>8</th>\n",
       "      <td>9</td>\n",
       "      <td>2020-02-07</td>\n",
       "      <td>6:00 PM</td>\n",
       "      <td>Kerala</td>\n",
       "      <td>3</td>\n",
       "      <td>0</td>\n",
       "      <td>0</td>\n",
       "      <td>0</td>\n",
       "      <td>3</td>\n",
       "    </tr>\n",
       "    <tr>\n",
       "      <th>9</th>\n",
       "      <td>10</td>\n",
       "      <td>2020-02-08</td>\n",
       "      <td>6:00 PM</td>\n",
       "      <td>Kerala</td>\n",
       "      <td>3</td>\n",
       "      <td>0</td>\n",
       "      <td>0</td>\n",
       "      <td>0</td>\n",
       "      <td>3</td>\n",
       "    </tr>\n",
       "    <tr>\n",
       "      <th>10</th>\n",
       "      <td>11</td>\n",
       "      <td>2020-02-09</td>\n",
       "      <td>6:00 PM</td>\n",
       "      <td>Kerala</td>\n",
       "      <td>3</td>\n",
       "      <td>0</td>\n",
       "      <td>0</td>\n",
       "      <td>0</td>\n",
       "      <td>3</td>\n",
       "    </tr>\n",
       "    <tr>\n",
       "      <th>11</th>\n",
       "      <td>12</td>\n",
       "      <td>2020-02-10</td>\n",
       "      <td>6:00 PM</td>\n",
       "      <td>Kerala</td>\n",
       "      <td>3</td>\n",
       "      <td>0</td>\n",
       "      <td>0</td>\n",
       "      <td>0</td>\n",
       "      <td>3</td>\n",
       "    </tr>\n",
       "    <tr>\n",
       "      <th>12</th>\n",
       "      <td>13</td>\n",
       "      <td>2020-02-11</td>\n",
       "      <td>6:00 PM</td>\n",
       "      <td>Kerala</td>\n",
       "      <td>3</td>\n",
       "      <td>0</td>\n",
       "      <td>0</td>\n",
       "      <td>0</td>\n",
       "      <td>3</td>\n",
       "    </tr>\n",
       "    <tr>\n",
       "      <th>13</th>\n",
       "      <td>14</td>\n",
       "      <td>2020-02-12</td>\n",
       "      <td>6:00 PM</td>\n",
       "      <td>Kerala</td>\n",
       "      <td>3</td>\n",
       "      <td>0</td>\n",
       "      <td>0</td>\n",
       "      <td>0</td>\n",
       "      <td>3</td>\n",
       "    </tr>\n",
       "    <tr>\n",
       "      <th>14</th>\n",
       "      <td>15</td>\n",
       "      <td>2020-02-13</td>\n",
       "      <td>6:00 PM</td>\n",
       "      <td>Kerala</td>\n",
       "      <td>3</td>\n",
       "      <td>0</td>\n",
       "      <td>0</td>\n",
       "      <td>0</td>\n",
       "      <td>3</td>\n",
       "    </tr>\n",
       "  </tbody>\n",
       "</table>\n",
       "</div>"
      ],
      "text/plain": [
       "    Sno        Date     Time State/UnionTerritory ConfirmedIndianNational  \\\n",
       "0     1  2020-01-30  6:00 PM               Kerala                       1   \n",
       "1     2  2020-01-31  6:00 PM               Kerala                       1   \n",
       "2     3  2020-02-01  6:00 PM               Kerala                       2   \n",
       "3     4  2020-02-02  6:00 PM               Kerala                       3   \n",
       "4     5  2020-02-03  6:00 PM               Kerala                       3   \n",
       "5     6  2020-02-04  6:00 PM               Kerala                       3   \n",
       "6     7  2020-02-05  6:00 PM               Kerala                       3   \n",
       "7     8  2020-02-06  6:00 PM               Kerala                       3   \n",
       "8     9  2020-02-07  6:00 PM               Kerala                       3   \n",
       "9    10  2020-02-08  6:00 PM               Kerala                       3   \n",
       "10   11  2020-02-09  6:00 PM               Kerala                       3   \n",
       "11   12  2020-02-10  6:00 PM               Kerala                       3   \n",
       "12   13  2020-02-11  6:00 PM               Kerala                       3   \n",
       "13   14  2020-02-12  6:00 PM               Kerala                       3   \n",
       "14   15  2020-02-13  6:00 PM               Kerala                       3   \n",
       "\n",
       "   ConfirmedForeignNational  Cured  Deaths  Confirmed  \n",
       "0                         0      0       0          1  \n",
       "1                         0      0       0          1  \n",
       "2                         0      0       0          2  \n",
       "3                         0      0       0          3  \n",
       "4                         0      0       0          3  \n",
       "5                         0      0       0          3  \n",
       "6                         0      0       0          3  \n",
       "7                         0      0       0          3  \n",
       "8                         0      0       0          3  \n",
       "9                         0      0       0          3  \n",
       "10                        0      0       0          3  \n",
       "11                        0      0       0          3  \n",
       "12                        0      0       0          3  \n",
       "13                        0      0       0          3  \n",
       "14                        0      0       0          3  "
      ]
     },
     "execution_count": 14,
     "metadata": {},
     "output_type": "execute_result"
    }
   ],
   "source": [
    "data.head(15)"
   ]
  },
  {
   "cell_type": "code",
   "execution_count": 36,
   "id": "0a116940",
   "metadata": {},
   "outputs": [
    {
     "data": {
      "text/plain": [
       "<Axes: >"
      ]
     },
     "execution_count": 36,
     "metadata": {},
     "output_type": "execute_result"
    },
    {
     "data": {
      "image/png": "[encoded data removed]",
      "text/plain": [
       "<Figure size 640x480 with 1 Axes>"
      ]
     },
     "metadata": {},
     "output_type": "display_data"
    }
   ],
   "source": [
    "data.boxplot(column=\"Sno\",by=None,ax=None)"
   ]
  },
  {
   "cell_type": "code",
   "execution_count": 37,
   "id": "cdaae216",
   "metadata": {},
   "outputs": [
    {
     "data": {
      "text/plain": [
       "<Axes: >"
      ]
     },
     "execution_count": 37,
     "metadata": {},
     "output_type": "execute_result"
    },
    {
     "data": {
      "image/png": "[encoded data removed]",
      "text/plain": [
       "<Figure size 640x480 with 1 Axes>"
      ]
     },
     "metadata": {},
     "output_type": "display_data"
    }
   ],
   "source": [
    "data.boxplot(column=\"Confirmed\", by=None, ax=None)"
   ]
  },
  {
   "cell_type": "code",
   "execution_count": null,
   "id": "78b51e6b",
   "metadata": {},
   "outputs": [],
   "source": [
    "pd.cut(data[\"Sno\"],10)"
   ]
  }
 ],
 "metadata": {
  "kernelspec": {
   "display_name": "Python 3 (ipykernel)",
   "language": "python",
   "name": "python3"
  },
  "language_info": {
   "codemirror_mode": {
    "name": "ipython",
    "version": 3
   },
   "file_extension": ".py",
   "mimetype": "text/x-python",
   "name": "python",
   "nbconvert_exporter": "python",
   "pygments_lexer": "ipython3",
   "version": "3.11.5"
  }
 },
 "nbformat": 4,
 "nbformat_minor": 5
}
